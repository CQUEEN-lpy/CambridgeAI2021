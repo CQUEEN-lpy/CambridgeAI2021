{
 "cells": [
  {
   "cell_type": "markdown",
   "metadata": {},
   "source": [
    "# 数据预处理"
   ]
  },
  {
   "cell_type": "raw",
   "metadata": {},
   "source": [
    "原始图片数据转换为二进制图片数据；进而将二进制图片数据处理为灰度图数据，即一张图片变为的向量，作为perceptron的特征向量输入"
   ]
  },
  {
   "cell_type": "code",
   "execution_count": 7,
   "metadata": {},
   "outputs": [],
   "source": [
    "import os\n",
    "from PIL import Image\n",
    "from array import *\n",
    "from random import shuffle\n",
    "\n",
    "# Load from and save to\n",
    "Names = [['./train_to_ZJY','train'], ['./test_to_ZJY','test']]\n",
    "\n",
    "for name in Names:\n",
    "    \n",
    "    data_image = array('B')\n",
    "    data_label = array('B')\n",
    "\n",
    "    FileList = []\n",
    "    for dirname in os.listdir(name[0]): # 以列表形式返回train_to_ZJY下的所有文件{0,1]\n",
    "        path = os.path.join(name[0],dirname) #用于寻找子文件夹\n",
    "        for filename in os.listdir(path):\n",
    "            if filename.endswith(\".jpg\"): #判断是否为jpg\n",
    "                FileList.append(os.path.join(name[0],dirname,filename))\n",
    "\n",
    "    shuffle(FileList) # 随机排序\n",
    "    for filename in FileList:\n",
    "        label = int(filename.split('\\\\')[1])\n",
    "        Im = Image.open(filename)\n",
    "        pixel = Im.load()\n",
    "        width, height = Im.size\n",
    "        for x in range(0,width):\n",
    "            for y in range(0,height):\n",
    "                data_image.append(pixel[y,x])\n",
    "        data_label.append(label) # labels start (one unsigned byte each)\n",
    "    hexval = \"{0:#0{1}x}\".format(len(FileList),6) # number of files in HEX\n",
    "    header = array('B')\n",
    "    header.extend([0,0,8,1,0,0])\n",
    "    header.append(int('0x'+hexval[2:][:2],16))\n",
    "    header.append(int('0x'+hexval[2:][2:],16))\n",
    "\n",
    "    data_label = header + data_label\n",
    "\n",
    "# additional header for images array\n",
    "\n",
    "    if max([width,height]) <= 256:\n",
    "        header.extend([0,0,0,width,0,0,0,height])\n",
    "    else:\n",
    "        raise ValueError('Image exceeds maximum size: 256x256 pixels');\n",
    "\n",
    "    header[3] = 3 # Changing MSB for image data (0x00000803)\n",
    "\n",
    "    data_image = header + data_image\n",
    "\n",
    "    output_file = open(name[1]+'-images-idx3-ubyte', 'wb')\n",
    "    data_image.tofile(output_file)\n",
    "    output_file.close()\n",
    "\n",
    "    output_file = open(name[1]+'-labels-idx1-ubyte', 'wb')\n",
    "    data_label.tofile(output_file)\n",
    "    output_file.close()\n",
    "\n",
    "# gzip resulting files\n",
    "\n",
    "for name in Names:\n",
    "    os.system('gzip '+name[1]+'-images-idx3-ubyte') #二进制读取\n",
    "    os.system('gzip '+name[1]+'-labels-idx1-ubyte')\n",
    "# header for label array\\"
   ]
  },
  {
   "cell_type": "code",
   "execution_count": 8,
   "metadata": {},
   "outputs": [],
   "source": [
    "import struct\n",
    "import numpy as np"
   ]
  },
  {
   "cell_type": "code",
   "execution_count": 9,
   "metadata": {},
   "outputs": [],
   "source": [
    "labels_path = \"train-labels-idx1-ubyte\"\n",
    "images_path = \"train-images-idx3-ubyte\"\n",
    "with open(labels_path,\"rb\") as lbpath:\n",
    "    magic,n  = struct.unpack(\">II\",lbpath.read(8))\n",
    "    labels = np.fromfile(lbpath,dtype = np.uint8)\n",
    "with open(images_path,\"rb\") as a:\n",
    "    magic,num,rows,cols  = struct.unpack(\">IIII\",a.read(16))\n",
    "    images = np.fromfile(a,dtype = np.uint8).reshape(len(labels),4096)"
   ]
  },
  {
   "cell_type": "markdown",
   "metadata": {},
   "source": [
    "# 训练集和测试集的划分"
   ]
  },
  {
   "cell_type": "markdown",
   "metadata": {},
   "source": [
    "* 将原始数据的测试集和训练集混合随机打乱后，选取80%为训练集，20%为测试集\n",
    "* 总共选取23000张图片，测试集样本容量为18400，训练集样本容量为4600"
   ]
  },
  {
   "cell_type": "code",
   "execution_count": 10,
   "metadata": {},
   "outputs": [
    {
     "data": {
      "text/plain": [
       "(23000,)"
      ]
     },
     "execution_count": 10,
     "metadata": {},
     "output_type": "execute_result"
    }
   ],
   "source": [
    "labels.shape"
   ]
  },
  {
   "cell_type": "code",
   "execution_count": 11,
   "metadata": {},
   "outputs": [
    {
     "data": {
      "text/plain": [
       "(23000, 4096)"
      ]
     },
     "execution_count": 11,
     "metadata": {},
     "output_type": "execute_result"
    }
   ],
   "source": [
    "images.shape"
   ]
  },
  {
   "cell_type": "code",
   "execution_count": 12,
   "metadata": {},
   "outputs": [],
   "source": [
    "list = []\n",
    "for i in labels:\n",
    "    if i == 1:\n",
    "        list.append(1)\n",
    "        continue\n",
    "    list.append(-1)"
   ]
  },
  {
   "cell_type": "code",
   "execution_count": 13,
   "metadata": {},
   "outputs": [],
   "source": [
    "training_images = images[:int(len(images)*0.8)]\n",
    "test_images = images[int(len(images)*0.8):]\n",
    "training_labels = list[:int(len(list)*0.8)]\n",
    "test_labels = list[int(len(list)*0.8):]"
   ]
  },
  {
   "cell_type": "code",
   "execution_count": 14,
   "metadata": {},
   "outputs": [
    {
     "name": "stdout",
     "output_type": "stream",
     "text": [
      "(18400, 4096)\n",
      "(4600, 4096)\n",
      "18400\n",
      "4600\n"
     ]
    }
   ],
   "source": [
    "print(training_images.shape)\n",
    "print(test_images.shape)\n",
    "print(len(training_labels))\n",
    "print(len(test_labels))"
   ]
  },
  {
   "cell_type": "markdown",
   "metadata": {},
   "source": [
    "#  perceptron"
   ]
  },
  {
   "cell_type": "markdown",
   "metadata": {},
   "source": [
    "## 基本定义"
   ]
  },
  {
   "cell_type": "markdown",
   "metadata": {},
   "source": [
    "![jupyter](./perceptron.png)"
   ]
  },
  {
   "cell_type": "markdown",
   "metadata": {},
   "source": [
    "* 线性方程: $$w ⋅ x + b = 0$$\n",
    "* 对于特征空间中的一个超平面 S ，其中 w是超平面的法向量， b是超平面的截距。这个超平面将特征空间划分为两个部分。位于两部分的点（特征向量）分别被分为正、负两类。因此超平面S称为分离超平面，如上图所示；\n",
    "* 感知机通过训练训练集数据求得感知机模型，即求得模型参数 w， b。通过学习得到的感知机模型，对于新的输入实例给出其对应的输出类别；"
   ]
  },
  {
   "cell_type": "markdown",
   "metadata": {},
   "source": [
    "## 学习策略"
   ]
  },
  {
   "cell_type": "markdown",
   "metadata": {},
   "source": [
    "为求最优w,b，加入感知机学习的损失函数，考虑误分类点到超平面S的总距离，那么会出现两个问题，怎么判断误分类点？怎么计算这些点到超平面S的总距离？"
   ]
  },
  {
   "cell_type": "markdown",
   "metadata": {},
   "source": [
    "误分类点判断"
   ]
  },
  {
   "cell_type": "markdown",
   "metadata": {},
   "source": [
    "\n",
    "* 对于一个误分类点 $(x_{i},y_{i})$而说，当$ w ⋅ x_{i} + b > 0$时，$y_{i} = -1$，当 $w ⋅ x_{i} + b < 0$ 时，$y_{i} = 1$,所以有$$ -y_{i} ⋅( w ⋅ x_{i} + b ) > 0 $$\n"
   ]
  },
  {
   "cell_type": "markdown",
   "metadata": {},
   "source": [
    "损失函数"
   ]
  },
  {
   "cell_type": "markdown",
   "metadata": {},
   "source": [
    "* 误分类点到超平面的总距离(假设有m个误分类点): $$   - \\frac{1 }{\\mid\\mid w \\mid\\mid}⋅ \\sum_{j=0}^{m}(y_{j}⋅(w ⋅ x_{j} + b)) $$\n",
    "* 忽略$ \\frac{1 }{\\mid\\mid w \\mid\\mid}$,得到损失函数: $$ LOSS = - \\sum_{j=0}^{m}(y_{j}⋅(w ⋅ x_{j} + b)) $$"
   ]
  },
  {
   "cell_type": "markdown",
   "metadata": {},
   "source": [
    "w,b的计算"
   ]
  },
  {
   "cell_type": "markdown",
   "metadata": {},
   "source": [
    "采用梯度下降算法：分别对w和y求导得：$$  - \\nabla_{w}L(w,b) = - \\sum_{j=0}^{m}(y_{j}x_{j}) $$ $$  - \\nabla_{b}L(w,b) = - \\sum_{j=0}^{m}(y_{j}) $$ "
   ]
  },
  {
   "cell_type": "markdown",
   "metadata": {},
   "source": [
    "故对误分类点w,b的更新如下： $$ w = w +\\eta (y_{j}x_{j})$$ $$ b = b +\\eta (y_{j})$$"
   ]
  },
  {
   "cell_type": "markdown",
   "metadata": {},
   "source": [
    "重复执行上述步骤直到一次更新后不再有误分类点。而且由于初值和误分类点的选择顺序不同，最终结果可以有无穷多个。其实这很容易理解，考虑平面上线性可分的数据集，当然存在无穷多个超平面可以将其分开。另外可以证明误分类的次数是有上届的，经过有限次搜索可以找到将训练数据集完全分开的超平面，也就是说，当训练数据集线性可分时，感知机学习算法原始形式迭代是收敛的。"
   ]
  },
  {
   "cell_type": "markdown",
   "metadata": {},
   "source": [
    "## 代码实现"
   ]
  },
  {
   "cell_type": "code",
   "execution_count": 15,
   "metadata": {},
   "outputs": [],
   "source": [
    "import random"
   ]
  },
  {
   "cell_type": "markdown",
   "metadata": {},
   "source": [
    "下面算法中遍历所有的点，出现误分类点，就更新一次w和b，其中loop_max为迭代次数，即重复以上步骤的次数"
   ]
  },
  {
   "cell_type": "code",
   "execution_count": 16,
   "metadata": {},
   "outputs": [],
   "source": [
    "# 感知机学习算法\n",
    "def perceptron(image,label,eta,loop_max): #images,labels,learning rate,迭代次数\n",
    "    eta=0.5 # 学习率\n",
    "    features=image.shape[1]   # x特征列数量\n",
    "    w=np.array([x*0 for x in range(0,features)])\n",
    "    b=0\n",
    "    for times in range(loop_max): #迭代次数\n",
    "        for i in range(len(image)):\n",
    "            x = image[i]\n",
    "            y = label[i]\n",
    "            if y*(w@x+b)<=0: # @符号作用同np.dot\n",
    "                w=w+eta*y*x\n",
    "                b=b+eta*y\n",
    "    return w,b"
   ]
  },
  {
   "cell_type": "markdown",
   "metadata": {},
   "source": [
    "* 迭代1000的w,b值"
   ]
  },
  {
   "cell_type": "code",
   "execution_count": 25,
   "metadata": {},
   "outputs": [],
   "source": [
    "w,b = perceptron(image = training_images,label = training_labels,eta = 0.5,loop_max = 1000) "
   ]
  },
  {
   "cell_type": "code",
   "execution_count": 26,
   "metadata": {},
   "outputs": [],
   "source": [
    "# 符号函数(类似激活函数，得到预测结果)\n",
    "def sign(v):\n",
    "    if v > 0:\n",
    "        return 1\n",
    "    else:\n",
    "        return -1"
   ]
  },
  {
   "cell_type": "code",
   "execution_count": 27,
   "metadata": {},
   "outputs": [],
   "source": [
    "#预测函数\n",
    "def predict(image,label):\n",
    "    fault = 0\n",
    "    predict_result = []\n",
    "    for x in image:\n",
    "        predict_result.append(sign(w@x+b))\n",
    "    for i in range(len(predict_result)):\n",
    "        if  predict_result[i]!=label[i]:\n",
    "            fault+=1\n",
    "    accuracy = 1-(fault/len(label)) \n",
    "    return accuracy"
   ]
  },
  {
   "cell_type": "code",
   "execution_count": 28,
   "metadata": {},
   "outputs": [
    {
     "data": {
      "text/plain": [
       "0.5106521739130434"
      ]
     },
     "execution_count": 28,
     "metadata": {},
     "output_type": "execute_result"
    }
   ],
   "source": [
    "predict(image=test_images,label = test_labels)"
   ]
  },
  {
   "cell_type": "code",
   "execution_count": 30,
   "metadata": {},
   "outputs": [
    {
     "data": {
      "text/plain": [
       "0.6336413043478261"
      ]
     },
     "execution_count": 30,
     "metadata": {},
     "output_type": "execute_result"
    }
   ],
   "source": [
    "predict(image=training_images,label = training_labels)"
   ]
  },
  {
   "cell_type": "code",
   "execution_count": null,
   "metadata": {},
   "outputs": [],
   "source": []
  }
 ],
 "metadata": {
  "kernelspec": {
   "display_name": "Python 3",
   "language": "python",
   "name": "python3"
  },
  "language_info": {
   "codemirror_mode": {
    "name": "ipython",
    "version": 3
   },
   "file_extension": ".py",
   "mimetype": "text/x-python",
   "name": "python",
   "nbconvert_exporter": "python",
   "pygments_lexer": "ipython3",
   "version": "3.7.6"
  },
  "toc": {
   "base_numbering": 1,
   "nav_menu": {},
   "number_sections": true,
   "sideBar": true,
   "skip_h1_title": false,
   "title_cell": "Table of Contents",
   "title_sidebar": "Contents",
   "toc_cell": false,
   "toc_position": {
    "height": "calc(100% - 180px)",
    "left": "10px",
    "top": "150px",
    "width": "315.833px"
   },
   "toc_section_display": true,
   "toc_window_display": true
  }
 },
 "nbformat": 4,
 "nbformat_minor": 4
}
